{
 "metadata": {
  "name": ""
 },
 "nbformat": 3,
 "nbformat_minor": 0,
 "worksheets": [
  {
   "cells": [
    {
     "cell_type": "heading",
     "level": 1,
     "metadata": {},
     "source": [
      "Pandas for Excel Users: Files"
     ]
    },
    {
     "cell_type": "markdown",
     "metadata": {},
     "source": [
      "- Reading files: [Excel](#Reading-Excel-Files), [CSV](#Reading-CSV-Files), tab delimited -- and how to [troubleshoot](#Troubleshooting-Reading-Files)\n",
      "- Writing files:"
     ]
    },
    {
     "cell_type": "heading",
     "level": 2,
     "metadata": {},
     "source": [
      "Reading Excel Files"
     ]
    },
    {
     "cell_type": "markdown",
     "metadata": {},
     "source": [
      "You can read in Excel file into a data frame in just one line:"
     ]
    },
    {
     "cell_type": "code",
     "collapsed": false,
     "input": [
      "sales = pd.read_excel('sales_data.xlsx', 0, index_col=None, na_values=['NA'])\n",
      "sales[:10]"
     ],
     "language": "python",
     "metadata": {},
     "outputs": []
    },
    {
     "cell_type": "markdown",
     "metadata": {},
     "source": [
      "For the file 'sales_data.xlsx', this will read the spreadsheet's first workbook \u2013 that's what the 0 is for \u2013 into a DataFrame.\n",
      "\n",
      "If you want to read the workbook other than the first one, you can either use a number \u2013 0 for the first one, 1 for the second, etc. \u2013 or you can use the name of the worksheet:"
     ]
    },
    {
     "cell_type": "code",
     "collapsed": false,
     "input": [
      "sales = pd.read_excel('sales_data.xlsx', 'Data from Accounting', index_col=None, na_values=['NA'])"
     ],
     "language": "python",
     "metadata": {},
     "outputs": []
    },
    {
     "cell_type": "markdown",
     "metadata": {},
     "source": [
      "See below for [additional options](#Options-You-Can-Use-When-Reading-Files); for more info, see the [Pandas documentation](http://pandas.pydata.org/pandas-docs/dev/io.html#io-excel)."
     ]
    },
    {
     "cell_type": "heading",
     "level": 2,
     "metadata": {},
     "source": [
      "Reading CSV Files"
     ]
    },
    {
     "cell_type": "markdown",
     "metadata": {},
     "source": [
      "You can read in a CSV file with just one line:"
     ]
    },
    {
     "cell_type": "code",
     "collapsed": false,
     "input": [
      "pastries = pd.read_csv('2012_pastries.csv')\n",
      "pastries[:10]"
     ],
     "language": "python",
     "metadata": {},
     "outputs": []
    },
    {
     "cell_type": "markdown",
     "metadata": {},
     "source": [
      "If the data isn't separated by commas, use the sep option:"
     ]
    },
    {
     "cell_type": "code",
     "collapsed": false,
     "input": [
      "pastries = pd.read_csv('2012_pastries.csv', sep=';')"
     ],
     "language": "python",
     "metadata": {},
     "outputs": []
    },
    {
     "cell_type": "heading",
     "level": 2,
     "metadata": {},
     "source": [
      "Options You Can Use When Reading Files"
     ]
    },
    {
     "cell_type": "markdown",
     "metadata": {},
     "source": [
      "Pandas has a huge range of options you can use to save you a lot of work when you're reading in a file. For example, you can tell pandas that some of the fields are dates using parse_dates:"
     ]
    },
    {
     "cell_type": "code",
     "collapsed": false,
     "input": [
      "pastries = pd.read_csv('2012_pastries.csv', parse_dates=['Purchase Date'])"
     ],
     "language": "python",
     "metadata": {},
     "outputs": []
    },
    {
     "cell_type": "markdown",
     "metadata": {},
     "source": [
      "(give another option \u2013 e.g., only taking the columns you need)"
     ]
    },
    {
     "cell_type": "markdown",
     "metadata": {},
     "source": [
      " You can also change the column names, tell Pandas what values to treat as missing values (a.k.a. NaN), do fancier date manipulation if you've got an unusual date format, read only the first n number of rows, etc.  \n",
      "\n",
      "For more info, see the [Pandas documentation for reading CSV and text files](http://pandas.pydata.org/pandas-docs/dev/io.html#csv-text-files); these options will also work for Excel."
     ]
    },
    {
     "cell_type": "heading",
     "level": 2,
     "metadata": {},
     "source": [
      "Troubleshooting Reading Files"
     ]
    },
    {
     "cell_type": "markdown",
     "metadata": {},
     "source": [
      "Is Pandas complaining it can't find the file you're trying to read in? Running this code will show you what directory it thinks you're in and the names of the files in that directory:"
     ]
    },
    {
     "cell_type": "code",
     "collapsed": false,
     "input": [
      "import os\t\n",
      "os.listdir('.')  \t#  one dot =  your current directory"
     ],
     "language": "python",
     "metadata": {},
     "outputs": []
    },
    {
     "cell_type": "markdown",
     "metadata": {},
     "source": [
      "Here are some things you might check:\n",
      "\n",
      "Are you in the directory you thought you were in?\n",
      "\n",
      "Is the file extension the same?  For example, if you're importing an Excel file you might've typed \".xls\" but the file name actually ends with \".xlsx\"."
     ]
    }
   ],
   "metadata": {}
  }
 ]
}