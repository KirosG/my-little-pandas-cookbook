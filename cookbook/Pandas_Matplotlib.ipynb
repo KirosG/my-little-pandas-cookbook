{
 "metadata": {
  "name": ""
 },
 "nbformat": 3,
 "nbformat_minor": 0,
 "worksheets": [
  {
   "cells": [
    {
     "cell_type": "heading",
     "level": 1,
     "metadata": {},
     "source": [
      "matplotlib"
     ]
    },
    {
     "cell_type": "markdown",
     "metadata": {},
     "source": [
      "matplotlib is Pandas' graphics workhorse.  If you want to quickly visualize your data, it's where you want to start.\n",
      "\n",
      "(links within the page)"
     ]
    },
    {
     "cell_type": "heading",
     "level": 2,
     "metadata": {},
     "source": [
      "Basics"
     ]
    },
    {
     "cell_type": "code",
     "collapsed": false,
     "input": [],
     "language": "python",
     "metadata": {},
     "outputs": []
    },
    {
     "cell_type": "heading",
     "level": 2,
     "metadata": {},
     "source": [
      "Behind the Scenes"
     ]
    },
    {
     "cell_type": "markdown",
     "metadata": {},
     "source": [
      "matplotlib is pretty wordy, so Pandas hides a lot of the details.  But sometimes to get exactly what you want on a graph, \n",
      "you'll need to get into the weeds.  Here's some info..."
     ]
    },
    {
     "cell_type": "markdown",
     "metadata": {},
     "source": []
    }
   ],
   "metadata": {}
  }
 ]
}