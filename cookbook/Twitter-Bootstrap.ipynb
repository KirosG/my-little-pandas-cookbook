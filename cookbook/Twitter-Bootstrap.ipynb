{
 "metadata": {
  "name": "",
  "signature": "sha256:62e0274be2ea7aa8860cb2870b0cee8d83908fed9764cd1f1ecfeb2afd5e3fa1"
 },
 "nbformat": 3,
 "nbformat_minor": 0,
 "worksheets": [
  {
   "cells": [
    {
     "cell_type": "heading",
     "level": 1,
     "metadata": {},
     "source": [
      "Twitter Bootstrap: The Engine behind Styling IPython Notebook Widgets"
     ]
    },
    {
     "cell_type": "markdown",
     "metadata": {},
     "source": [
      "There are a lot of simple things you can do to make IPython Notebook widgets look better. But if you want a lot of control over the layout, formatting, etc., you'll need to learn a little about Twitter Bootstrap.\n",
      "\n",
      "One of the very smart things that the IPython Notebook folks did is that rather than reinvent the wheel, wherever possible they built out IPython Notebook using already existing, powerful open source tools. A good example of this is their use of Twitter Bootstrap.\n",
      "\n",
      "{Say more, briefly}"
     ]
    },
    {
     "cell_type": "code",
     "collapsed": false,
     "input": [],
     "language": "python",
     "metadata": {},
     "outputs": []
    }
   ],
   "metadata": {}
  }
 ]
}