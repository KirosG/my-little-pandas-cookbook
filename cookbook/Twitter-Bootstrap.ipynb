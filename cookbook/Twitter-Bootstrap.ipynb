{
 "metadata": {
  "name": "",
  "signature": "sha256:e1c6174bb9baaa38d7d0de291918f091b14f04ec8c10f83e932a25ab6689a182"
 },
 "nbformat": 3,
 "nbformat_minor": 0,
 "worksheets": [
  {
   "cells": [
    {
     "cell_type": "heading",
     "level": 1,
     "metadata": {},
     "source": [
      "Twitter Bootstrap: The Engine behind Styling IPython Notebook Widgets"
     ]
    },
    {
     "cell_type": "markdown",
     "metadata": {},
     "source": [
      "There are a lot of simple things you can do to make IPython Notebook widgets look better. But if you want a lot of control over the layout, formatting, etc., you'll need to learn a little about Twitter Bootstrap.\n",
      "\n",
      "One of the very smart things that the IPython Notebook folks did is that rather than reinvent the wheel, wherever possible they built out IPython Notebook using already existing, powerful open source tools. A good example of this is their use of Twitter Bootstrap.\n",
      "\n",
      "{Say more, briefly}"
     ]
    },
    {
     "cell_type": "heading",
     "level": 2,
     "metadata": {},
     "source": [
      "Some Useful  Links"
     ]
    },
    {
     "cell_type": "markdown",
     "metadata": {},
     "source": [
      "- Some interesting examples of [widgets and CSS code](http://nbviewer.ipython.org/gist/anonymous/840b5cec9e19f3e39090) "
     ]
    }
   ],
   "metadata": {}
  }
 ]
}