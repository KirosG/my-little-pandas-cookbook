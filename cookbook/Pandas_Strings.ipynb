{
 "metadata": {
  "name": "",
  "signature": "sha256:a9469ddac2995fed0a6e1b4066f955733b6f548e2351bcd8727ea81bd54c424c"
 },
 "nbformat": 3,
 "nbformat_minor": 0,
 "worksheets": [
  {
   "cells": [
    {
     "cell_type": "heading",
     "level": 1,
     "metadata": {},
     "source": [
      "Strings"
     ]
    },
    {
     "cell_type": "markdown",
     "metadata": {},
     "source": [
      "{ Once I've got more recipies, put in links using this format:\n",
      "- [Renaming Columns](#Renaming-Columns)\n",
      "- [Deleting Columns](#Deleting-Columns)\n",
      "- Dropping Rows with [Missing Values](#Dropping-Rows-with-Missing-Values)\n",
      "- [Filtering Rows](#Filtering-Rows)\n",
      "}"
     ]
    },
    {
     "cell_type": "heading",
     "level": 1,
     "metadata": {},
     "source": [
      "If Strings are Too Long to View"
     ]
    },
    {
     "cell_type": "markdown",
     "metadata": {},
     "source": [
      "If you've got strings in your DataFrame that are very long, when you try to display them pandas will truncate them.  \n",
      "Most of the time that's a good thing.  But if you need to see what's in those strings -- e.g., you are trying to extract\n",
      "date from them or clean them up -- that's not going to work.  To  see the full strings, set pandas' display width \n",
      "and max column length.  For example, if most of the strings are under 150 characters, use this:"
     ]
    },
    {
     "cell_type": "code",
     "collapsed": false,
     "input": [
      "pd.set_option('display.width', 1000) \n",
      "pd.set_option('display.max_colwidth', 150)"
     ],
     "language": "python",
     "metadata": {},
     "outputs": []
    }
   ],
   "metadata": {}
  }
 ]
}