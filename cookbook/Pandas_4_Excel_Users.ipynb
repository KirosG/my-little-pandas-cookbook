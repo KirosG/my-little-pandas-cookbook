{
 "metadata": {
  "name": "",
  "signature": "sha256:aeed80fc1ca70cead33f0945ace6811f9faf46309e81ccb293deca774cff21b7"
 },
 "nbformat": 3,
 "nbformat_minor": 0,
 "worksheets": [
  {
   "cells": [
    {
     "cell_type": "heading",
     "level": 2,
     "metadata": {},
     "source": [
      "Pandas for Excel Users: a Cookbook"
     ]
    },
    {
     "cell_type": "markdown",
     "metadata": {},
     "source": [
      "\n",
      "\\[ DRAFT \\] \\[ DRAFT \\] \\[ DRAFT \\]\n",
      "\n",
      "*NOTE: this cookbook  hasn't been vetted yet; there may be better/simpler ways to solve your problem.*\n",
      "\n",
      "- [Installing](Pandas_Installing.ipynb) and [updating](Pandas_Installing.ipynb#Updating-Pandas) pandas\n",
      "- [Files](Pandas_Files.ipynb): Reading  [Excel](Pandas_Files.ipynb#Reading-Excel-files), [CSV](Pandas_Files.ipynb#Reading-CSV-Files), or Tab-delimited files; Writing Excel, [CSV](Pandas_Files.ipynb#Writing-CSV-Files), or Tab-delimited files, [Renaming](#Renaming-a-File), [Moving](#Moving-a-File), and [Deleting](#Deleting-a-File) Files, reading a [directory](Pandas_Files.ipynb#Listing-the-Files-in-a-Directory) -- and how to [troubleshoot](Pandas_Files.ipynb#Troubleshooting-Reading-Files) reading files\n",
      "- [Selecting Data](Pandas_Slicing_Data.ipynb): by [rows](Pandas_Slicing_Data.ipynb#Selecting-Rows), [columns](Pandas_Slicing_Data.ipynb#Selecting-Columns)\n",
      "- [Getting Counts](Pandas_Slicing_Data.ipynb): [frequency counts](Pandas_Slicing_Data.ipynb#Frequency-Counts), [Top 10](Pandas_Slicing_Data.ipynb#Top-10-Most-Frequent-Values), pivot tables, turning [columns into rows](Pandas_Slicing_Data.ipynb#Turning-Columns-into-Rows-Using-Melt), and other ways of aggregating data\n",
      "- [Cleaning Data](Pandas_Cleaning.ipynb): [Renaming Columns](Pandas_Cleaning.ipynb#Renaming-Columns), [Deleting Columns](Pandas_Cleaning.ipynb#Deleting-Columns), Dropping Rows with [Missing Values](Pandas_Cleaning.ipynb#Dropping-Rows-with-Missing-Values), [Filtering out Rows](Pandas_Cleaning.ipynb#Filtering-Rows) containing values you don't want, turning [columns into rows](Pandas_Slicing_Data.ipynb#Turning-Columns-into-Rows-Using-Melt), merging files, etc.\n",
      "- [Strings](Pandas_Strings.ipynb)\n",
      "\n",
      "\n",
      "Making it pretty:\n",
      "- [Graphics](Pandas_Bokeh.ipynb): we mostly use [Bokeh](Pandas_Bokeh.ipynb).  If you want more options, you might try  [matplotlib](Pandas_Matplotlib.ipynb), pandas's built-in graphics library. For really amazing interactive graphics, check out [D3](Pandas_D3.ipynb). See also [ggplot](Pandas_ggplot.ipynb) and [other data visualization tools](Pandas_Graphics.ipynb).  \n",
      "- [Interactive Widgets](Widgets.ipynb): code for [each type of widget](http://nbviewer.ipython.org/github/ipython/ipython-in-depth/blob/master/examples/Interactive%20Widgets/Widget%20List.ipynb),  using [events]( Widgets.ipynb#Events) so something happens when someone clicks on or uses a widget, a great overall [tutorial](http://nbviewer.ipython.org/github/ipython/ipython-in-depth/blob/master/Index - Interactive Widgets.ipynb) (including how to use [JavaScript]( http://nbviewer.ipython.org/github/ipython/ipython-in-depth/blob/master/examples/IPython%20Kernel/Rich%20Output.ipynb)), and info about [Twitter Bootstrap](Twitter-Bootstrap.ipynb), which the widgets are based on.\n",
      "\n",
      "You might also want to check out a list of [tutorials](../Tutorials.ipynb) \n",
      "and [online communities](../Online_Communities.ipynb).\n",
      "\n",
      "(some of the [data](data/Data.ipynb) I might use for the cookbook)\n"
     ]
    },
    {
     "cell_type": "code",
     "collapsed": false,
     "input": [],
     "language": "python",
     "metadata": {},
     "outputs": []
    }
   ],
   "metadata": {}
  }
 ]
}