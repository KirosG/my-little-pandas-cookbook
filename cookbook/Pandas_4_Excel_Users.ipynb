{
 "metadata": {
  "name": "",
  "signature": "sha256:a21526ab3162bf99e02b32990f5f84d208418b8375a5dc1c5da3c185f49fbf0b"
 },
 "nbformat": 3,
 "nbformat_minor": 0,
 "worksheets": [
  {
   "cells": [
    {
     "cell_type": "heading",
     "level": 2,
     "metadata": {},
     "source": [
      "Pandas for Excel Users: a Cookbook"
     ]
    },
    {
     "cell_type": "markdown",
     "metadata": {},
     "source": [
      "\\[ DRAFT \\] \\[ DRAFT \\] \\[ DRAFT \\]\n",
      "\n",
      "*NOTE: this hasn't been vetted yet, it's my first experiment. There may be better/simpler ways to solve your problem.*\n",
      "\n",
      "- [Files](Pandas_Files.ipynb): Reading  [Excel](Pandas_Files.ipynb#Reading-Excel-files), [CSV](Pandas_Files.ipynb#Reading-CSV-Files), or Tab-delimited files; Writing Excel, CSV, or Tab-delimited files -- and how to [troubleshoot](Pandas_Files.ipynb#Troubleshooting-Reading-Files) reading files\n",
      "- [Selecting Data](Pandas_Slicing_Data.ipynb): by [rows](Pandas_Slicing_Data.ipynb#Selecting-Rows), [columns](Pandas_Slicing_Data.ipynb#Selecting-Columns)\n",
      "- [Getting Counts](Pandas_Slicing_Data.ipynb): [frequency counts](Pandas_Slicing_Data.ipynb#Frequency-Counts), [Top 10](Pandas_Slicing_Data.ipynb#Top-10-Most-Frequent-Values), pivot tables, turning [columns into rows](Pandas_Slicing_Data.ipynb#Turning-Columns-into-Rows-Using-Melt), and other ways of aggregating data\n",
      "- [Cleaning Data](Pandas_Cleaning.ipynb): [Renaming Columns](Pandas_Cleaning.ipynb#Renaming-Columns), [Deleting Columns](Pandas_Cleaning.ipynb#Deleting-Columns), Dropping Rows with [Missing Values](Pandas_Cleaning.ipynb#Dropping-Rows-with-Missing-Values), [Filtering out Rows](Pandas_Cleaning.ipynb#Filtering-Rows) containing values you don't want, turning [columns into rows](Pandas_Slicing_Data.ipynb#Turning-Columns-into-Rows-Using-Melt), merging files, etc.\n",
      "- Graphics:  [matplotlib](Pandas_Matplotlib.ipynb), [ggplot](Pandas_ggplot.ipynb) and [other data visualization tools](Pandas_Graphics.ipynb)\n",
      "\n",
      "You might also want to check out the lists of [tutorials](../Tutorials.ipynb) \n",
      "and [online communities](../Online_Communities.ipynb).\n",
      "\n",
      "**NOTE:  the official IPython Notebook documentation on shortcuts hasn't been updated  yet.  Until it is, here's a link to the new [keyboard shortcuts](http://nbviewer.ipython.org/github/ipython/ipython/blob/2.x/examples/Notebook/User%20Interface.ipynb).**\n",
      "\n",
      "NOTE: here's the semiofficial documentation for creating [interactive widgets]( http://nbviewer.ipython.org/github/ipython/ipython/blob/2.x/examples/Interactive%20Widgets/Index.ipynb) in IPython Notebook 2.0."
     ]
    },
    {
     "cell_type": "markdown",
     "metadata": {},
     "source": [
      "*Things I need to fix:\n",
      "- Change the examples to ones that can be reproduced*"
     ]
    },
    {
     "cell_type": "heading",
     "level": 3,
     "metadata": {},
     "source": [
      "About Pandas for Excel Users"
     ]
    },
    {
     "cell_type": "markdown",
     "metadata": {},
     "source": [
      "(Something about what we're trying to accomplish for folks who are comfortable doing basic stuff and Excel and are running out of runway)"
     ]
    }
   ],
   "metadata": {}
  }
 ]
}