{
 "metadata": {
  "name": "",
  "signature": "sha256:7452a9d66439c3e9b0e8909f69657518df5a9de738e174837b02f4146b6881ed"
 },
 "nbformat": 3,
 "nbformat_minor": 0,
 "worksheets": [
  {
   "cells": [
    {
     "cell_type": "heading",
     "level": 2,
     "metadata": {},
     "source": [
      "Pandas for Excel Users: a Cookbook"
     ]
    },
    {
     "cell_type": "markdown",
     "metadata": {},
     "source": [
      "\\[ DRAFT \\] \\[ DRAFT \\] \\[ DRAFT \\]\n",
      "\n",
      "*NOTE: this cookbook  hasn't been vetted yet; there may be better/simpler ways to solve your problem.*\n",
      "\n",
      "- [Files](Pandas_Files.ipynb): Reading  [Excel](Pandas_Files.ipynb#Reading-Excel-files), [CSV](Pandas_Files.ipynb#Reading-CSV-Files), or Tab-delimited files; Writing Excel, [CSV](Pandas_Files.ipynb#Writing-CSV-Files), or Tab-delimited files -- and how to [troubleshoot](Pandas_Files.ipynb#Troubleshooting-Reading-Files) reading files\n",
      "- [Selecting Data](Pandas_Slicing_Data.ipynb): by [rows](Pandas_Slicing_Data.ipynb#Selecting-Rows), [columns](Pandas_Slicing_Data.ipynb#Selecting-Columns)\n",
      "- [Getting Counts](Pandas_Slicing_Data.ipynb): [frequency counts](Pandas_Slicing_Data.ipynb#Frequency-Counts), [Top 10](Pandas_Slicing_Data.ipynb#Top-10-Most-Frequent-Values), pivot tables, turning [columns into rows](Pandas_Slicing_Data.ipynb#Turning-Columns-into-Rows-Using-Melt), and other ways of aggregating data\n",
      "- [Cleaning Data](Pandas_Cleaning.ipynb): [Renaming Columns](Pandas_Cleaning.ipynb#Renaming-Columns), [Deleting Columns](Pandas_Cleaning.ipynb#Deleting-Columns), Dropping Rows with [Missing Values](Pandas_Cleaning.ipynb#Dropping-Rows-with-Missing-Values), [Filtering out Rows](Pandas_Cleaning.ipynb#Filtering-Rows) containing values you don't want, turning [columns into rows](Pandas_Slicing_Data.ipynb#Turning-Columns-into-Rows-Using-Melt), merging files, etc.\n",
      "- Graphics: [Bokeh](Pandas_Bokeh.ipynb), [matplotlib](Pandas_Matplotlib.ipynb), [ggplot](Pandas_ggplot.ipynb) and [other data visualization tools](Pandas_Graphics.ipynb)\n",
      "- [Interactive Widgets](Widgets.ipynb): code for [each type of widget](http://nbviewer.ipython.org/github/ipython/ipython-in-depth/blob/master/examples/Interactive%20Widgets/Widget%20List.ipynb),  using [events]( Widgets.ipynb#Events) so things happen when someone uses a widget, a great overall [tutorial](http://nbviewer.ipython.org/github/ipython/ipython-in-depth/blob/master/Index - Interactive Widgets.ipynb)\n",
      "\n",
      "\n",
      "\n",
      "\n",
      "You might also want to check out a list of [tutorials](../Tutorials.ipynb) \n",
      "and [online communities](../Online_Communities.ipynb)."
     ]
    },
    {
     "cell_type": "code",
     "collapsed": false,
     "input": [],
     "language": "python",
     "metadata": {},
     "outputs": []
    }
   ],
   "metadata": {}
  }
 ]
}