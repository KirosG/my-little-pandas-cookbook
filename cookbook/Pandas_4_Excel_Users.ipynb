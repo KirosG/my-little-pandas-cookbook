{
 "metadata": {
  "name": "",
  "signature": "sha256:1122e1642d66bd401fb305a0a0b9db0e88e724aebef9cc90327c9cbda00ef505"
 },
 "nbformat": 3,
 "nbformat_minor": 0,
 "worksheets": [
  {
   "cells": [
    {
     "cell_type": "heading",
     "level": 2,
     "metadata": {},
     "source": [
      "Pandas for Excel Users: a Cookbook"
     ]
    },
    {
     "cell_type": "markdown",
     "metadata": {},
     "source": [
      "\\[ DRAFT \\] \\[ DRAFT \\] \\[ DRAFT \\]\n",
      "\n",
      "*NOTE: this cookbook  hasn't been vetted yet; there may be better/simpler ways to solve your problem.*\n",
      "\n",
      "- [Files](Pandas_Files.ipynb): Reading  [Excel](Pandas_Files.ipynb#Reading-Excel-files), [CSV](Pandas_Files.ipynb#Reading-CSV-Files), or Tab-delimited files; Writing Excel, [CSV](Pandas_Files.ipynb#Writing-CSV-Files), or Tab-delimited files -- and how to [troubleshoot](Pandas_Files.ipynb#Troubleshooting-Reading-Files) reading files\n",
      "- [Selecting Data](Pandas_Slicing_Data.ipynb): by [rows](Pandas_Slicing_Data.ipynb#Selecting-Rows), [columns](Pandas_Slicing_Data.ipynb#Selecting-Columns)\n",
      "- [Getting Counts](Pandas_Slicing_Data.ipynb): [frequency counts](Pandas_Slicing_Data.ipynb#Frequency-Counts), [Top 10](Pandas_Slicing_Data.ipynb#Top-10-Most-Frequent-Values), pivot tables, turning [columns into rows](Pandas_Slicing_Data.ipynb#Turning-Columns-into-Rows-Using-Melt), and other ways of aggregating data\n",
      "- [Cleaning Data](Pandas_Cleaning.ipynb): [Renaming Columns](Pandas_Cleaning.ipynb#Renaming-Columns), [Deleting Columns](Pandas_Cleaning.ipynb#Deleting-Columns), Dropping Rows with [Missing Values](Pandas_Cleaning.ipynb#Dropping-Rows-with-Missing-Values), [Filtering out Rows](Pandas_Cleaning.ipynb#Filtering-Rows) containing values you don't want, turning [columns into rows](Pandas_Slicing_Data.ipynb#Turning-Columns-into-Rows-Using-Melt), merging files, etc.\n",
      "- Graphics:  [matplotlib](Pandas_Matplotlib.ipynb), [ggplot](Pandas_ggplot.ipynb) and [other data visualization tools](Pandas_Graphics.ipynb)\n",
      "- Interactive Widgets: currently there's only [partial documentation]( http://nbviewer.ipython.org/github/ipython/ipython/blob/2.x/examples/Interactive%20Widgets/Index.ipynb), but this [tutorial](http://nbviewer.ipython.org/github/ipython/ipython-in-depth/blob/master/Index - Interactive Widgets.ipynb) is pretty helpful\n",
      "\n",
      "You might also want to check out a list of [tutorials](../Tutorials.ipynb) \n",
      "and [online communities](../Online_Communities.ipynb)."
     ]
    }
   ],
   "metadata": {}
  }
 ]
}