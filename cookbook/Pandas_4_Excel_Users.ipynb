{
 "metadata": {
  "name": ""
 },
 "nbformat": 3,
 "nbformat_minor": 0,
 "worksheets": [
  {
   "cells": [
    {
     "cell_type": "heading",
     "level": 2,
     "metadata": {},
     "source": [
      "Pandas for Excel Users: a Cookbook"
     ]
    },
    {
     "cell_type": "markdown",
     "metadata": {},
     "source": [
      "\\[ DRAFT \\] \\[ DRAFT \\] \\[ DRAFT \\]\n",
      "\n",
      "*NOTE: this hasn't been vetted yet, it's my first experiment. There may be better/simpler ways to solve your problem.*\n",
      "\n",
      "- Files: Reading  [Excel](Pandas_Files.ipynb#Reading-Excel-files), CSV, or Tab-delimited files; Writing Excel, CSV, or Tab-delimited files\n",
      "- [Selecting Data](Pandas_Slicing_Data.ipynb): by [rows](Pandas_Slicing_Data.ipynb#Selecting-Rows), [columns](Pandas_Slicing_Data.ipynb#Selecting-Columns)\n",
      "- [Getting Counts](Pandas_Slicing_Data.ipynb): [frequency counts](Pandas_Slicing_Data.ipynb#Frequency-Counts), [Top 10](Pandas_Slicing_Data.ipynb#Top-10-Most-Frequent-Values), pivot tables, and other ways of aggregating data\n",
      "- Cleaning up: deleting columns, merging, etc.\n",
      "- Graphics:  [matplotlib](Pandas_Matplotlib.ipynb) and [other data visualization tools](Pandas_Graphics.ipynb)\n",
      "\n",
      "You might also want to check out the lists of [tutorials](../Tutorials.ipynb) \n",
      "and [online communities](../Online_Communities.ipynb)."
     ]
    },
    {
     "cell_type": "markdown",
     "metadata": {},
     "source": [
      "*Things I need to fix:\n",
      "- Change the examples to ones that can be reproduced*"
     ]
    },
    {
     "cell_type": "heading",
     "level": 3,
     "metadata": {},
     "source": [
      "About Pandas for Excel Users"
     ]
    },
    {
     "cell_type": "markdown",
     "metadata": {},
     "source": [
      "(Something about what we're trying to accomplish for folks who are comfortable doing basic stuff and Excel and are running out of runway)"
     ]
    }
   ],
   "metadata": {}
  }
 ]
}