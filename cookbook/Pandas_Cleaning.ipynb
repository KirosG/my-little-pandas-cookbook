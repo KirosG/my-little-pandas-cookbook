{
 "metadata": {
  "name": "",
  "signature": "sha256:3714b83555669d0c7805596346860b9d2d5d6a3de745a8ce6b079c141d8a6950"
 },
 "nbformat": 3,
 "nbformat_minor": 0,
 "worksheets": [
  {
   "cells": [
    {
     "cell_type": "heading",
     "level": 1,
     "metadata": {},
     "source": [
      "Cleaning up Data"
     ]
    },
    {
     "cell_type": "markdown",
     "metadata": {},
     "source": [
      "As fun as plotting data is, most experts say you're going to spend 80% of your data analysis time cleaning up and massaging the data.  Here are a few tricks and tips to make that 80% less painful:\n",
      "\n",
      "- [Renaming Columns](#Renaming-Columns)\n",
      "- [Deleting Columns](#Deleting-Columns)\n",
      "- Dropping Rows with [Missing Values](#Dropping-Rows-with-Missing-Values)\n",
      "- [Filtering Rows](#Filtering-Rows)\n",
      "- Turning a DataFrame [column into a DataFrame](#Turning-a-DataFrame-Column-into-a-DataFrame)\n",
      "- Find out what [type of data](#Find-Out-What-Type-of-Data-You're-Working-with) you're working with"
     ]
    },
    {
     "cell_type": "heading",
     "level": 2,
     "metadata": {},
     "source": [
      "Renaming Columns"
     ]
    },
    {
     "cell_type": "markdown",
     "metadata": {},
     "source": [
      "Use rename to rename columns. For example, to rename the \"Campaign\" column as \"Google Tracking Code\":"
     ]
    },
    {
     "cell_type": "code",
     "collapsed": false,
     "input": [
      "google_analytics.rename(columns={'Campaign':'Google Tracking Code'}, inplace=True)"
     ],
     "language": "python",
     "metadata": {},
     "outputs": []
    },
    {
     "cell_type": "markdown",
     "metadata": {},
     "source": [
      "inplace=True tells Pandas to rename the columns of the existing DataFrame; if you don't use it, pandas will create a copy of the existing DataFrame with the columns renamed."
     ]
    },
    {
     "cell_type": "heading",
     "level": 2,
     "metadata": {},
     "source": [
      "Deleting Columns"
     ]
    },
    {
     "cell_type": "markdown",
     "metadata": {},
     "source": [
      "Use drop to delete  columns you don't need. For example:"
     ]
    },
    {
     "cell_type": "code",
     "collapsed": false,
     "input": [
      "sharepoint = sharepoint.drop(['Item Type', 'Path', 'Google Visits', 'Google Revenue', 'Google Transactions'], axis=1)"
     ],
     "language": "python",
     "metadata": {},
     "outputs": []
    },
    {
     "cell_type": "heading",
     "level": 2,
     "metadata": {},
     "source": [
      "Dropping Rows with Missing Values"
     ]
    },
    {
     "cell_type": "markdown",
     "metadata": {},
     "source": [
      "Use dropna to drop any rows that are missing values. For example:"
     ]
    },
    {
     "cell_type": "code",
     "collapsed": false,
     "input": [
      "google_analytics = google_analytics.dropna()"
     ],
     "language": "python",
     "metadata": {},
     "outputs": []
    },
    {
     "cell_type": "heading",
     "level": 2,
     "metadata": {},
     "source": [
      "Filtering Rows"
     ]
    },
    {
     "cell_type": "markdown",
     "metadata": {},
     "source": [
      "If you want to drop any rows that meet certain criteria, essentially you do the opposite \u2013 keep any rows that don't meet that criteria. (Try to come up with simpler language for this). For example, if you want to delete any sales product that had a revenue of 0 \u2013 because they had been given away for free \u2013 you would use:"
     ]
    },
    {
     "cell_type": "code",
     "collapsed": false,
     "input": [
      "products = products[products['Revenue'] > 0]"
     ],
     "language": "python",
     "metadata": {},
     "outputs": []
    },
    {
     "cell_type": "raw",
     "metadata": {},
     "source": [
      "(Do a little more research and the documentation, to make sure there isn't any other way to do this)"
     ]
    },
    {
     "cell_type": "heading",
     "level": 2,
     "metadata": {},
     "source": [
      "Turning a DataFrame Column into a DataFrame"
     ]
    },
    {
     "cell_type": "markdown",
     "metadata": {},
     "source": [
      "Sometimes you'll find yourself in a situation where you need to feed a function/method a DataFrame but the data you want to act on is a column in a DataFrame. If you just reference the column:"
     ]
    },
    {
     "cell_type": "code",
     "collapsed": false,
     "input": [
      "campaigns['Visits']"
     ],
     "language": "python",
     "metadata": {},
     "outputs": []
    },
    {
     "cell_type": "markdown",
     "metadata": {},
     "source": [
      "this will create a Series. What do you do if you need  to treat it as a DataFrame? Add in an additional pair of brackets:"
     ]
    },
    {
     "cell_type": "code",
     "collapsed": false,
     "input": [
      "campaigns[['Visits']]"
     ],
     "language": "python",
     "metadata": {},
     "outputs": []
    },
    {
     "cell_type": "markdown",
     "metadata": {},
     "source": [
      "If you want to make sure it's a DataFrame, just cal \"type\" on it:"
     ]
    },
    {
     "cell_type": "code",
     "collapsed": false,
     "input": [
      "type(campaigns[['Visits']])"
     ],
     "language": "python",
     "metadata": {},
     "outputs": []
    },
    {
     "cell_type": "heading",
     "level": 2,
     "metadata": {},
     "source": [
      "Find Out What Type of Data You're Working with"
     ]
    },
    {
     "cell_type": "markdown",
     "metadata": {},
     "source": [
      "Sometimes it's useful to be able to find out what type of data you're working with. Use type:"
     ]
    },
    {
     "cell_type": "code",
     "collapsed": false,
     "input": [
      "a = 3\n",
      "type(a)"
     ],
     "language": "python",
     "metadata": {},
     "outputs": [
      {
       "metadata": {},
       "output_type": "pyout",
       "prompt_number": 1,
       "text": [
        "int"
       ]
      }
     ],
     "prompt_number": 1
    },
    {
     "cell_type": "code",
     "collapsed": false,
     "input": [
      "a=\"this is a test\"\n",
      "type(a)"
     ],
     "language": "python",
     "metadata": {},
     "outputs": [
      {
       "metadata": {},
       "output_type": "pyout",
       "prompt_number": 2,
       "text": [
        "str"
       ]
      }
     ],
     "prompt_number": 2
    },
    {
     "cell_type": "code",
     "collapsed": false,
     "input": [
      "my_list = [1, 2, 3]\n",
      "type(my_list)"
     ],
     "language": "python",
     "metadata": {},
     "outputs": [
      {
       "metadata": {},
       "output_type": "pyout",
       "prompt_number": 3,
       "text": [
        "list"
       ]
      }
     ],
     "prompt_number": 3
    }
   ],
   "metadata": {}
  }
 ]
}