{
 "metadata": {
  "name": ""
 },
 "nbformat": 3,
 "nbformat_minor": 0,
 "worksheets": [
  {
   "cells": [
    {
     "cell_type": "heading",
     "level": 1,
     "metadata": {},
     "source": [
      "Cleaning up Data"
     ]
    },
    {
     "cell_type": "markdown",
     "metadata": {},
     "source": [
      "As fun as plotting data is, most experts say you're going to spend 80% of your data analysis time cleaning up and massaging the data.  Here are a few tricks and tips to make that 80% less painful:\n",
      "\n",
      "- [Renaming Columns](#Renaming-Columns)\n",
      "- [Deleting Columns](#Deleting-Columns)\n",
      "- Dropping Rows with [Missing Values](#Dropping-Rows-with-Missing-Values)\n",
      "- [Filtering Rows](#Filtering-Rows)"
     ]
    },
    {
     "cell_type": "heading",
     "level": 2,
     "metadata": {},
     "source": [
      "Renaming Columns"
     ]
    },
    {
     "cell_type": "markdown",
     "metadata": {},
     "source": [
      "Use rename to rename columns. For example, to rename the \"Campaign\" column as \"Google Tracking Code\":"
     ]
    },
    {
     "cell_type": "code",
     "collapsed": false,
     "input": [
      "google_analytics.rename(columns={'Campaign':'Google Tracking Code'}, inplace=True)"
     ],
     "language": "python",
     "metadata": {},
     "outputs": []
    },
    {
     "cell_type": "markdown",
     "metadata": {},
     "source": [
      "inplace=True tells Pandas to rename the columns of the existing DataFrame; if you don't use it, pandas will create a copy of the existing DataFrame with the columns renamed."
     ]
    },
    {
     "cell_type": "heading",
     "level": 2,
     "metadata": {},
     "source": [
      "Deleting Columns"
     ]
    },
    {
     "cell_type": "markdown",
     "metadata": {},
     "source": [
      "Use drop to delete  columns you don't need. For example:"
     ]
    },
    {
     "cell_type": "code",
     "collapsed": false,
     "input": [
      "sharepoint = sharepoint.drop(['Item Type', 'Path', 'Google Visits', 'Google Revenue', 'Google Transactions'], axis=1)"
     ],
     "language": "python",
     "metadata": {},
     "outputs": []
    },
    {
     "cell_type": "heading",
     "level": 2,
     "metadata": {},
     "source": [
      "Dropping Rows with Missing Values"
     ]
    },
    {
     "cell_type": "markdown",
     "metadata": {},
     "source": [
      "Use dropna to drop any rows that are missing values. For example:"
     ]
    },
    {
     "cell_type": "code",
     "collapsed": false,
     "input": [
      "google_analytics = google_analytics.dropna()"
     ],
     "language": "python",
     "metadata": {},
     "outputs": []
    },
    {
     "cell_type": "heading",
     "level": 2,
     "metadata": {},
     "source": [
      "Filtering Rows"
     ]
    },
    {
     "cell_type": "markdown",
     "metadata": {},
     "source": [
      "If you want to drop any rows that meet certain criteria, essentially you do the opposite \u2013 keep any rows that don't meet that criteria. (Try to come up with simpler language for this). For example, if you want to delete any sales product that had a revenue of 0 \u2013 because they had been given away for free \u2013 you would use:"
     ]
    },
    {
     "cell_type": "code",
     "collapsed": false,
     "input": [
      "products = products[products['Revenue'] > 0]"
     ],
     "language": "python",
     "metadata": {},
     "outputs": []
    },
    {
     "cell_type": "markdown",
     "metadata": {},
     "source": [
      "(Do a little more research and the documentation, to make sure there isn't any other way to do this)"
     ]
    }
   ],
   "metadata": {}
  }
 ]
}