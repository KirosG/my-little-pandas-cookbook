{
 "metadata": {
  "name": ""
 },
 "nbformat": 3,
 "nbformat_minor": 0,
 "worksheets": [
  {
   "cells": [
    {
     "cell_type": "heading",
     "level": 1,
     "metadata": {},
     "source": [
      "Cleaning up Data"
     ]
    },
    {
     "cell_type": "markdown",
     "metadata": {},
     "source": [
      "{ put list of links here }"
     ]
    },
    {
     "cell_type": "heading",
     "level": 2,
     "metadata": {},
     "source": [
      "Renaming Columns"
     ]
    },
    {
     "cell_type": "markdown",
     "metadata": {},
     "source": [
      "Use rename to rename columns. For example, to rename the \"Campaign\" column as \"Google Tracking Code\":"
     ]
    },
    {
     "cell_type": "code",
     "collapsed": false,
     "input": [
      "google_analytics.rename(columns={'Campaign':'Google Tracking Code'}, inplace=True)"
     ],
     "language": "python",
     "metadata": {},
     "outputs": []
    },
    {
     "cell_type": "markdown",
     "metadata": {},
     "source": [
      "inplace=True tells Pandas to rename the columns of the existing DataFrame; if you don't use it, pandas will create a copy of the existing DataFrame with the columns renamed."
     ]
    },
    {
     "cell_type": "heading",
     "level": 2,
     "metadata": {},
     "source": [
      "Deleting Columns"
     ]
    },
    {
     "cell_type": "markdown",
     "metadata": {},
     "source": [
      "Use drop to delete  columns you don't need. For example:"
     ]
    },
    {
     "cell_type": "code",
     "collapsed": false,
     "input": [
      "sharepoint = sharepoint.drop(['Item Type', 'Path', 'Google Visits', 'Google Revenue', 'Google Transactions'], axis=1)"
     ],
     "language": "python",
     "metadata": {},
     "outputs": []
    },
    {
     "cell_type": "heading",
     "level": 2,
     "metadata": {},
     "source": [
      "Drop Any Rows Missing Values"
     ]
    },
    {
     "cell_type": "markdown",
     "metadata": {},
     "source": [
      "Use dropna to drop any rows that are missing values. For example:"
     ]
    },
    {
     "cell_type": "code",
     "collapsed": false,
     "input": [
      "google_analytics = google_analytics.dropna()"
     ],
     "language": "python",
     "metadata": {},
     "outputs": []
    }
   ],
   "metadata": {}
  }
 ]
}