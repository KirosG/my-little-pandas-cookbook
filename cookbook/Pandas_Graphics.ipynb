{
 "metadata": {
  "name": "",
  "signature": "sha256:68e3e3f4e0ad331e91acd8b78d7eacf7397ad46656a3198496531046e27521b1"
 },
 "nbformat": 3,
 "nbformat_minor": 0,
 "worksheets": [
  {
   "cells": [
    {
     "cell_type": "heading",
     "level": 1,
     "metadata": {},
     "source": [
      "Other Pandas Graphics Libraries"
     ]
    },
    {
     "cell_type": "markdown",
     "metadata": {},
     "source": [
      "- [Vincent](http://vincent.readthedocs.org/en/latest/): Vincent is a Python library on top of Vega, a JavaScript visualization library.  You can easily do pretty standard business graphs in it, and it works very nicely with Pandas. You can't customize it as much as you can with the JavaScript libraries below \u2013 d3/nvd3 \u2013 but then again it's a fraction of the work you would have to spend. The one problem we've encountered so far with Vincent is that if you want to do a bunch of graphs together, it doesn't offer you tools to make it easy to do.\n",
      "- [d3](http://d3js.org/): you can do very cool graphics in a JavaScript library called d3, but it's an awful lot of work. And to use it with Pandas, you have to convert the Pandas data into a JavaScript data format called JSON. So if you are trying to fluidly interact with the data as you are exploring it, it's really not a good option.\n",
      "- [nvd3](http://nvd3.org/): if you are trying to create basic charts, it takes a lot of the work out of d3. There is a Python wrapper for it. But when it comes to data, you've got the same issue you do with d3. So for Python for Excel Users, it's not much better off an option.\n",
      "- [Seaborn]( http://stanford.edu/%7Emwaskom/software/seaborn/introduction.html): designed for drawing statistical graphs, Seaborn makes a bunch of educated guesses as to what kind of graph would best fit your data. Works closely with Pandas. If you are trying to graph stats, it's definitely worth checking out.\n",
      "- Andrew Montalenti's very interesting PyData 2013 talk, [Rapid Data Visualization, from Python to Browser](http://vimeo.com/79580138)"
     ]
    },
    {
     "cell_type": "code",
     "collapsed": false,
     "input": [],
     "language": "python",
     "metadata": {},
     "outputs": []
    }
   ],
   "metadata": {}
  }
 ]
}