{
 "metadata": {
  "name": "",
  "signature": "sha256:49be953942a1c7e8f285cdb38e2c7069ffeec5172faf79476219633655f5e7ab"
 },
 "nbformat": 3,
 "nbformat_minor": 0,
 "worksheets": [
  {
   "cells": [
    {
     "cell_type": "heading",
     "level": 1,
     "metadata": {},
     "source": [
      "Bokeh"
     ]
    },
    {
     "cell_type": "markdown",
     "metadata": {},
     "source": [
      "Bokeh is a up-and-coming data visualization library that has a lot of potential \u2013 and makes very pretty graphs out-of-the-box.\n",
      "\n",
      "- Continuum Analytics' [announcement]( http://continuum.io/blog/bokeh-0.5), which has some examples that aren't yet covered in the official documentation\n",
      "- Example [IPython Notebooks]( http://bokeh.pydata.org/docs/quickstart.html#example-ipython-notebooks)\n",
      "- The official [tutorial]( http://bokeh.pydata.org/tutorial/index.html)\n",
      "- [Documentation]( http://bokeh.pydata.org/docs/user_guide.html) for users\n",
      "- How to [install Bokeh]( http://bokeh.pydata.org/tutorial/quick_install.html) \n",
      "- The Bokeh [website]( http://bokeh.pydata.org/)"
     ]
    },
    {
     "cell_type": "markdown",
     "metadata": {},
     "source": [
      " "
     ]
    },
    {
     "cell_type": "code",
     "collapsed": false,
     "input": [],
     "language": "python",
     "metadata": {},
     "outputs": []
    }
   ],
   "metadata": {}
  }
 ]
}