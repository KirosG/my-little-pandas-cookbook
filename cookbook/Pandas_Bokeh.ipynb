{
 "metadata": {
  "name": "",
  "signature": "sha256:5940f3b2995eb4081d089c3259c86ca04abd3c5d41834af00303f23abb41ce10"
 },
 "nbformat": 3,
 "nbformat_minor": 0,
 "worksheets": [
  {
   "cells": [
    {
     "cell_type": "heading",
     "level": 1,
     "metadata": {},
     "source": [
      "Bokeh"
     ]
    },
    {
     "cell_type": "markdown",
     "metadata": {},
     "source": [
      "pandas comes with a library for plotting called [matplotlib](Pandas_Matplotlib.ipynb).  It's powerful, but it takes a lot of work to get pretty graphs.  So we've switched to using Bokeh, a up-and-coming data visualization library that has a lot of potential.  Here are a few general links to get you started:\n",
      "\n",
      "- Continuum Analytics' [announcement]( http://continuum.io/blog/bokeh-0.5), which has some examples that aren't yet covered in the official documentation\n",
      "- Where [sample IPython Notebooks]( http://bokeh.pydata.org/docs/quickstart.html#example-ipython-notebooks) are stored on your machine if you've installed Bokeh using Anaconda\n",
      "- The official [tutorial]( http://bokeh.pydata.org/tutorial/index.html)\n",
      "- [Documentation]( http://bokeh.pydata.org/docs/user_guide.html) for users\n",
      "- How to [install Bokeh]( http://bokeh.pydata.org/tutorial/quick_install.html) \n",
      "- The Bokeh [website]( http://bokeh.pydata.org/)"
     ]
    },
    {
     "cell_type": "markdown",
     "metadata": {},
     "source": [
      " "
     ]
    },
    {
     "cell_type": "heading",
     "level": 2,
     "metadata": {},
     "source": [
      "Getting Started"
     ]
    },
    {
     "cell_type": "markdown",
     "metadata": {},
     "source": [
      "For most Bokeh plots, you're going to need the following at the start of your script:"
     ]
    },
    {
     "cell_type": "code",
     "collapsed": false,
     "input": [
      "import bokeh\n",
      "bokeh.load_notebook()"
     ],
     "language": "python",
     "metadata": {},
     "outputs": []
    },
    {
     "cell_type": "markdown",
     "metadata": {},
     "source": [
      "If you're going to use particular charts, you'll need to import those specific charts.  For example, if you're planning on using the bar chart, scatter chart, and histogram, you'd use:"
     ]
    },
    {
     "cell_type": "code",
     "collapsed": false,
     "input": [
      "from bokeh.charts import Bar, Scatter, Histogram"
     ],
     "language": "python",
     "metadata": {},
     "outputs": []
    },
    {
     "cell_type": "markdown",
     "metadata": {},
     "source": [
      "For any other plotting you might do, you'll need this:"
     ]
    },
    {
     "cell_type": "code",
     "collapsed": false,
     "input": [
      "from bokeh.plotting import *"
     ],
     "language": "python",
     "metadata": {},
     "outputs": []
    },
    {
     "cell_type": "code",
     "collapsed": false,
     "input": [],
     "language": "python",
     "metadata": {},
     "outputs": []
    },
    {
     "cell_type": "heading",
     "level": 2,
     "metadata": {},
     "source": [
      "Troubleshooting"
     ]
    },
    {
     "cell_type": "markdown",
     "metadata": {},
     "source": [
      "A few lessons we've learned the hard way:\n",
      "\n",
      "- If you do a scatter plot and it returns a blank plot, odds are the values you gave it for  either the x or y axis aren't\n",
      "numbers.  At some point hopefully Bokeh will be fixed so it throws an error message if you give a scatter plot a column that isn't\n",
      "numbers."
     ]
    },
    {
     "cell_type": "code",
     "collapsed": false,
     "input": [],
     "language": "python",
     "metadata": {},
     "outputs": []
    }
   ],
   "metadata": {}
  }
 ]
}