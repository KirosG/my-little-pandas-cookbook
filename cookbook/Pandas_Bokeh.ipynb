{
 "metadata": {
  "name": "",
  "signature": "sha256:52c68d429dc585f9b14b950d0356a6bbd80527f018245be570004b04bd44ba85"
 },
 "nbformat": 3,
 "nbformat_minor": 0,
 "worksheets": [
  {
   "cells": [
    {
     "cell_type": "heading",
     "level": 1,
     "metadata": {},
     "source": [
      "Bokeh"
     ]
    },
    {
     "cell_type": "markdown",
     "metadata": {},
     "source": [
      "Bokeh is a up-and-coming data visualization library that has a lot of potential \u2013 and makes very pretty graphs out-of-the-box."
     ]
    },
    {
     "cell_type": "markdown",
     "metadata": {},
     "source": [
      "- Continue on Analytics' [announcement]( http://continuum.io/blog/bokeh-0.5), which has some examples that aren't yet covered in the official documentation\n",
      "- Example Bokeh [IPython Notebooks]( http://bokeh.pydata.org/docs/quickstart.html#example-ipython-notebooks)\n",
      "- Bokeh's [tutorial]( http://bokeh.pydata.org/tutorial/index.html)\n",
      "- Bokeh's [documentation]( http://bokeh.pydata.org/docs/user_guide.html)\n",
      "- How to [install Bokeh]( http://bokeh.pydata.org/tutorial/quick_install.html) \n",
      "- The [Bokeh website]( http://bokeh.pydata.org/)"
     ]
    },
    {
     "cell_type": "raw",
     "metadata": {},
     "source": []
    }
   ],
   "metadata": {}
  }
 ]
}