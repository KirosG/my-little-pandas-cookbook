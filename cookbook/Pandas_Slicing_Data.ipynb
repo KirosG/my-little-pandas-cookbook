{
 "metadata": {
  "name": ""
 },
 "nbformat": 3,
 "nbformat_minor": 0,
 "worksheets": [
  {
   "cells": [
    {
     "cell_type": "heading",
     "level": 1,
     "metadata": {},
     "source": [
      "Selecting and Slicing Data"
     ]
    },
    {
     "cell_type": "markdown",
     "metadata": {},
     "source": [
      "- Selecting by [rows](#Selecting-Rows) And [columns](#Selecting-Columns)\n",
      "- [Frequency counts](#Frequency-Counts)\n",
      "- [Top 10](#Top-10-Most-Frequent-Values)\n",
      "- Pivot tables\n",
      "- Other ways of aggregating data"
     ]
    },
    {
     "cell_type": "heading",
     "level": 2,
     "metadata": {},
     "source": [
      "Selecting Columns"
     ]
    },
    {
     "cell_type": "markdown",
     "metadata": {},
     "source": [
      "There are a number of ways you can  select columns; we'll cover the 2 most common. You can put the name of the column in brackets and single quotes:"
     ]
    },
    {
     "cell_type": "code",
     "collapsed": false,
     "input": [
      "members['Member Status']"
     ],
     "language": "python",
     "metadata": {},
     "outputs": []
    },
    {
     "cell_type": "markdown",
     "metadata": {},
     "source": [
      "or you can use {is it called dot notation?}:"
     ]
    },
    {
     "cell_type": "code",
     "collapsed": false,
     "input": [
      "members.Gender"
     ],
     "language": "python",
     "metadata": {},
     "outputs": []
    },
    {
     "cell_type": "markdown",
     "metadata": {},
     "source": [
      "The advantage of using dot notation is that you can use tab completion with it. {Give example}\n",
      "\n",
      "To select several columns, give Pandas a list of the columns you want in brackets:"
     ]
    },
    {
     "cell_type": "code",
     "collapsed": false,
     "input": [
      "members[['Member Status','Gender']]"
     ],
     "language": "python",
     "metadata": {},
     "outputs": []
    },
    {
     "cell_type": "markdown",
     "metadata": {},
     "source": [
      "You can also select columns and rows at the same time \u2013 see at the endat the end of Selecting Rows"
     ]
    },
    {
     "cell_type": "heading",
     "level": 2,
     "metadata": {},
     "source": [
      "Selecting Rows"
     ]
    },
    {
     "cell_type": "markdown",
     "metadata": {},
     "source": [
      "There are a number of ways you can select rows of data; we'll cover the most common. You can select by row number. For example, if you want the first 10 rows:"
     ]
    },
    {
     "cell_type": "code",
     "collapsed": false,
     "input": [
      "pastries[:10]"
     ],
     "language": "python",
     "metadata": {},
     "outputs": []
    },
    {
     "cell_type": "code",
     "collapsed": false,
     "input": [
      "{selecting by criteria}"
     ],
     "language": "python",
     "metadata": {},
     "outputs": []
    },
    {
     "cell_type": "code",
     "collapsed": false,
     "input": [
      "You can also select rows and columns at the same time. If you want the first 10 rows of member status and gender:"
     ],
     "language": "python",
     "metadata": {},
     "outputs": []
    },
    {
     "cell_type": "code",
     "collapsed": false,
     "input": [
      "members[['Member Status','Gender']][:10]"
     ],
     "language": "python",
     "metadata": {},
     "outputs": []
    },
    {
     "cell_type": "heading",
     "level": 2,
     "metadata": {},
     "source": [
      "Frequency Counts"
     ]
    },
    {
     "cell_type": "markdown",
     "metadata": {},
     "source": [
      "Use value_counts() to get a breakdown by a variable. For example, to find out how many of each type of pastry was purchased, from highest to lowest number purchased:"
     ]
    },
    {
     "cell_type": "code",
     "collapsed": false,
     "input": [
      "pastries['Type'].value_counts()"
     ],
     "language": "python",
     "metadata": {},
     "outputs": []
    },
    {
     "cell_type": "heading",
     "level": 2,
     "metadata": {},
     "source": [
      "Top 10 Most Frequent Values"
     ]
    },
    {
     "cell_type": "markdown",
     "metadata": {},
     "source": [
      "To get the top 10, top 20, etc., use value_counts. Since value_counts returns the frequency count in order from largest to smallest, all you need to do is grab the number of rows you want. For example, to get the top 10 most frequently purchased type of pastries:"
     ]
    },
    {
     "cell_type": "code",
     "collapsed": false,
     "input": [
      "pastries['Type'].value_counts()[:10]"
     ],
     "language": "python",
     "metadata": {},
     "outputs": []
    },
    {
     "cell_type": "markdown",
     "metadata": {},
     "source": [
      "If you want to plot the top 5 on a horizontal bar chart (assuming you had already imported matplotlib):"
     ]
    },
    {
     "cell_type": "code",
     "collapsed": false,
     "input": [
      "pastries['Type'].value_counts()[:5].plot(kind='barh')"
     ],
     "language": "python",
     "metadata": {},
     "outputs": []
    },
    {
     "cell_type": "heading",
     "level": 2,
     "metadata": {},
     "source": [
      "Filtering Rows"
     ]
    },
    {
     "cell_type": "markdown",
     "metadata": {},
     "source": [
      "To select rows by criteria, __. For example, to get every row where a family owns their home:"
     ]
    },
    {
     "cell_type": "code",
     "collapsed": false,
     "input": [
      "housing[ housing['Type'] == \"Owner\"]"
     ],
     "language": "python",
     "metadata": {},
     "outputs": []
    },
    {
     "cell_type": "markdown",
     "metadata": {},
     "source": [
      "To get every purchase of less than $10:"
     ]
    },
    {
     "cell_type": "code",
     "collapsed": false,
     "input": [
      "purchases[purchases['Price'] < 10]"
     ],
     "language": "python",
     "metadata": {},
     "outputs": []
    },
    {
     "cell_type": "markdown",
     "metadata": {},
     "source": [
      "You can also use & for AND and | for OR. For example, to get every family who owns their home and has more than three members:"
     ]
    },
    {
     "cell_type": "code",
     "collapsed": false,
     "input": [
      "housing[ housing['Type'] == \"Owner\" & housing['Household Members'] > 3 ]"
     ],
     "language": "python",
     "metadata": {},
     "outputs": []
    },
    {
     "cell_type": "markdown",
     "metadata": {},
     "source": [
      "{Once I have the data set I'm going to use, add:\n",
      "- OR example\n",
      "- how to break a really complicated query into smaller parts, \u00e0 la Chapter 3 of Julia Evans' cookbook, so it's more readable and your head doesn't explode}"
     ]
    },
    {
     "cell_type": "markdown",
     "metadata": {},
     "source": [
      "If you want to know why & how this works, check out Chapter 3 of Julia Evans' cookbook."
     ]
    }
   ],
   "metadata": {}
  }
 ]
}