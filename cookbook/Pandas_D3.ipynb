{
 "metadata": {
  "name": "",
  "signature": "sha256:bcb4cd01fb677aad57ccae74927782efe48e5c903228997b5ac4d137406f94b1"
 },
 "nbformat": 3,
 "nbformat_minor": 0,
 "worksheets": [
  {
   "cells": [
    {
     "cell_type": "heading",
     "level": 1,
     "metadata": {},
     "source": [
      "Using D3 with Pandas"
     ]
    },
    {
     "cell_type": "markdown",
     "metadata": {},
     "source": [
      "{NOTE: right now this is just a repository for useful links. Should be turned into some cookbook recipes at some point down the line}"
     ]
    },
    {
     "cell_type": "markdown",
     "metadata": {},
     "source": [
      "D3 links:\n",
      "- [How to use D3](http://www.machinalis.com/blog/embedding-interactive-charts-on-an-ipython-nb/) in IPython Notebook 2.0: a three-part tutorial\n",
      "- [Interactive Data Visualization for the Web](http://chimera.labs.oreilly.com/books/1230000000345/index.html): a free online O'Reilly book on learning D3\n",
      "- [Three Little Circles](http://bost.ocks.org/mike/circles/): a brief Mike Bostock tutorial on how to select & manipulate D3 items on a page\n",
      "- A variety of [tools and libraries built on top of D3](http://chimera.labs.oreilly.com/books/1230000000345/ch02.html#_tools_built_with_d3): easy ways to use D3 without having to write D3 code\n",
      "- [Miso](http://misoproject.com/): a project by the UK's Guardian newspaper to create D3 and other JavaScript libraries \"designed to expedite the creation of high-quality interactive storytelling and data visualization content.\"\n",
      "\n",
      "Other JavaScript data visualization tools & libraries:\n",
      "- [FoamTree](http://get.carrotsearch.com/foamtree/demo/): a gorgeous JavaScript tree map visualization tool\n",
      "\n"
     ]
    },
    {
     "cell_type": "code",
     "collapsed": false,
     "input": [],
     "language": "python",
     "metadata": {},
     "outputs": []
    }
   ],
   "metadata": {}
  }
 ]
}