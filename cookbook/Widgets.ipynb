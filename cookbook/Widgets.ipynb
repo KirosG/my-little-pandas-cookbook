{
 "metadata": {
  "name": "",
  "signature": "sha256:fd9336fd28e396e19a84b4f0ba4aa400e80ca1fd159aa4812b2fd0271af310bb"
 },
 "nbformat": 3,
 "nbformat_minor": 0,
 "worksheets": [
  {
   "cells": [
    {
     "cell_type": "heading",
     "level": 1,
     "metadata": {},
     "source": [
      "Using IPython Notebook Widgets"
     ]
    },
    {
     "cell_type": "markdown",
     "metadata": {},
     "source": [
      "IPython Notebook 2.0 added the ability to create widgets:  controls on the page that let users interact with the page without writing code so that, for example, a user could interactively manipulate a chart.\n",
      "\n",
      "The documentation is still spotty, so here are your best bets:\n",
      "- A really great [tutorial](http://nbviewer.ipython.org/github/ipython/ipython-in-depth/blob/master/Index - Interactive Widgets.ipynb) \n",
      "- [Sample code]( http://nbviewer.ipython.org/github/ipython/ipython-in-depth/blob/master/examples/Interactive%20Widgets/Widget%20List.ipynb) for each type of widget\n",
      "- The [official documentation]( http://nbviewer.ipython.org/github/ipython/ipython/blob/2.x/examples/Interactive%20Widgets/Index.ipynb)"
     ]
    },
    {
     "cell_type": "heading",
     "level": 2,
     "metadata": {},
     "source": [
      "Imports"
     ]
    },
    {
     "cell_type": "markdown",
     "metadata": {},
     "source": [
      "Whenever you use IPython Notebook widgets, you will need these imports:"
     ]
    },
    {
     "cell_type": "code",
     "collapsed": false,
     "input": [
      "from IPython.html import widgets # Widget definitions\n",
      "from IPython.display import display # Used to display widgets in the notebook"
     ],
     "language": "python",
     "metadata": {},
     "outputs": [],
     "prompt_number": 1
    },
    {
     "cell_type": "heading",
     "level": 2,
     "metadata": {},
     "source": [
      "Events"
     ]
    },
    {
     "cell_type": "markdown",
     "metadata": {},
     "source": [
      "If you want IPython Notebook to take an action when the user manipulates a widget \u2013 e.g., selects a value from a drop-down, moves a slider, etc. \u2013 call that widget's on_trait_change method. For example, when the user moves a slider, if you want to print the value that the user move to the slider to, you would do this:"
     ]
    },
    {
     "cell_type": "code",
     "collapsed": false,
     "input": [
      "number_range = widgets.IntSliderWidget()\n",
      "display(number_range)\n",
      "\n",
      "def on_value_change(name, value):\n",
      "    print(value)\n",
      "\n",
      "Number_range.on_trait_change(on_value_change, 'value')"
     ],
     "language": "python",
     "metadata": {},
     "outputs": [
      {
       "output_type": "stream",
       "stream": "stdout",
       "text": [
        "56\n"
       ]
      }
     ],
     "prompt_number": 2
    },
    {
     "cell_type": "markdown",
     "metadata": {},
     "source": [
      "There are 2 exceptions: buttons and pressing enter. \n",
      "\n",
      "If you want IPython Notebook to print \"Button clicked.\" when the user clicked the \"Click Me!\" button, here's how you would do it:"
     ]
    },
    {
     "cell_type": "code",
     "collapsed": false,
     "input": [
      "button = widgets.ButtonWidget(description=\"Click Me!\")\n",
      "display(button)\n",
      "\n",
      "def on_button_clicked(b):\n",
      "    print(\"Button clicked.\")\n",
      "\n",
      "button.on_click(on_button_clicked)"
     ],
     "language": "python",
     "metadata": {},
     "outputs": []
    },
    {
     "cell_type": "markdown",
     "metadata": {},
     "source": [
      "And when a user presses the return key when they are in a text box, if you wanted IPython Notebook to print the text that's in the text box you would write code like this:"
     ]
    },
    {
     "cell_type": "code",
     "collapsed": false,
     "input": [
      "text = widgets.TextWidget()\n",
      "display(text)\n",
      "\n",
      "def handle_submit(sender):\n",
      "    print(text.value)\n",
      "\n",
      "text.on_submit(handle_submit)"
     ],
     "language": "python",
     "metadata": {},
     "outputs": []
    }
   ],
   "metadata": {}
  }
 ]
}