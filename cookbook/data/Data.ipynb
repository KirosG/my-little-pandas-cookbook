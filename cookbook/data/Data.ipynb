{
 "metadata": {
  "name": "",
  "signature": "sha256:2d6af6af938c75b9c4b0f13f56e14bf03bb92bdc6751d3748992812142a1f320"
 },
 "nbformat": 3,
 "nbformat_minor": 0,
 "worksheets": [
  {
   "cells": [
    {
     "cell_type": "heading",
     "level": 1,
     "metadata": {},
     "source": [
      "Links for Data"
     ]
    },
    {
     "cell_type": "heading",
     "level": 2,
     "metadata": {},
     "source": [
      "Data I'm Likely to Use"
     ]
    },
    {
     "cell_type": "markdown",
     "metadata": {},
     "source": [
      "- Tobacco_Use_1995-2010.csv: [Tobacco use 1995-2010](https://data.cdc.gov/Smoking-Tobacco-Use/BRFSS-Prevalence-and-Trends-Data-Tobacco-Use-Four-/8zak-ewtm/about), from the CDC via data.cdc.gov"
     ]
    },
    {
     "cell_type": "heading",
     "level": 2,
     "metadata": {},
     "source": [
      "Links to Explore"
     ]
    },
    {
     "cell_type": "markdown",
     "metadata": {},
     "source": [
      "The following are datasets we could use in the pandas cookbook.\n",
      "\n",
      "Housing Datasets\n",
      "- Mother Jones article, [These 7 Charts Show Why the Rent Is Too Damn High](http://m.motherjones.com/politics/2014/06/rental-affordability-crisis-hud): great example of how to chart housing data effectively. Includes data citation\n",
      "- Harvard's Joint Center for Housing Studies' report on [Housing America's Older Adults](http://www.jchs.harvard.edu/research/housing_americas_older_adults), which includes Excel data\n",
      "- Their report on [rental housing](http://www.jchs.harvard.edu/americas-rental-housing)\n",
      "- The report on the [state of US housing in 2014](http://www.jchs.harvard.edu/research/publications/state-nations-housing-2014)\n",
      "- Their spreadsheet on [housing affordability](http://www.jchs.harvard.edu/sites/jchs.harvard.edu/files/sonhr14-appendix-tables.xlsx)\n",
      "\n",
      "\n",
      "Datasets To Check out\n",
      "- The Data Center's list of [web resources](http://www.datacenter.org/research-tools/web-resources/), including their list of data sets on [Corporate Accountability](\n",
      "http://www.datacenter.org/research-tools/web-resources/corporate-responsibility/)\n",
      "\n",
      "\n",
      "Miscellaneous\n",
      "- [data.cdc.gov](https://data.cdc.gov/)\n",
      "- [Data.gov in the Classroom](https://www.data.gov/education/datagov-classroom)\n",
      "- [Databases of statistical information, for journalists](http://multimedia.journalism.berkeley.edu/tutorials/databases-of-statistical-information/general/)"
     ]
    },
    {
     "cell_type": "code",
     "collapsed": false,
     "input": [],
     "language": "python",
     "metadata": {},
     "outputs": []
    }
   ],
   "metadata": {}
  }
 ]
}