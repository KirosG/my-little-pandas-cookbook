{
 "metadata": {
  "name": "",
  "signature": "sha256:16a48a6eccad7d5dc324bc1d99332eaf1768895756fa5eee694b23e64b2040bc"
 },
 "nbformat": 3,
 "nbformat_minor": 0,
 "worksheets": [
  {
   "cells": [
    {
     "cell_type": "heading",
     "level": 1,
     "metadata": {},
     "source": [
      "Installing and Updating pandas and IPython Notebook"
     ]
    },
    {
     "cell_type": "markdown",
     "metadata": {},
     "source": [
      "{a sentence or two about the setup and how we are assuming you are using pandas through IPython Notebook}"
     ]
    },
    {
     "cell_type": "heading",
     "level": 1,
     "metadata": {},
     "source": [
      "Installing pandas"
     ]
    },
    {
     "cell_type": "markdown",
     "metadata": {},
     "source": [
      "The easiest way to install pandas is by using [Anaconda](https://store.continuum.io/cshop/anaconda/), a package that gives you not only pandas but also a bunch of other libraries you will almost certainly end up needing."
     ]
    },
    {
     "cell_type": "markdown",
     "metadata": {},
     "source": [
      "{NOTE: need to put in info about how to run IPython Notebook as well as how to install it}"
     ]
    },
    {
     "cell_type": "heading",
     "level": 2,
     "metadata": {},
     "source": [
      "Updating pandas"
     ]
    },
    {
     "cell_type": "markdown",
     "metadata": {},
     "source": [
      "pandas gets updated every few months. If you need to upgrade to the newest version of pandas, open up the Anaconda MS-DOS batch file {go back and check to see what it's actually called} and type in the following:\n",
      "\n",
      "\n",
      "conda update conda\n",
      "\n",
      "and follow the instructions.\n",
      "\n",
      "Then run the following:\n",
      "\n",
      "conda update pandas\n"
     ]
    },
    {
     "cell_type": "code",
     "collapsed": false,
     "input": [],
     "language": "python",
     "metadata": {},
     "outputs": []
    }
   ],
   "metadata": {}
  }
 ]
}