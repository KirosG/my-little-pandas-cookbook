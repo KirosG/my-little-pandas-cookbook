{
 "metadata": {
  "name": "",
  "signature": "sha256:a45be2acb2e800fc9050a104a2d8d3f2af9413917453dd7880636e4cc52e3f6f"
 },
 "nbformat": 3,
 "nbformat_minor": 0,
 "worksheets": [
  {
   "cells": [
    {
     "cell_type": "heading",
     "level": 1,
     "metadata": {},
     "source": [
      "Pandas for Excel Users: Files"
     ]
    },
    {
     "cell_type": "markdown",
     "metadata": {},
     "source": [
      "- Reading files: [Excel](#Reading-Excel-Files), [CSV](#Reading-CSV-Files), tab delimited -- and how to [troubleshoot](#Troubleshooting-Reading-Files)\n",
      "- Writing files: [CSV](Pandas_Files.ipynb#Writing-CSV-Files)\n",
      "- Get a list of files in a [directory](#Listing-the-Files-in-a-Directory)"
     ]
    },
    {
     "cell_type": "heading",
     "level": 2,
     "metadata": {},
     "source": [
      "Reading Excel Files"
     ]
    },
    {
     "cell_type": "markdown",
     "metadata": {},
     "source": [
      "You can read in Excel file into a data frame in just one line:"
     ]
    },
    {
     "cell_type": "code",
     "collapsed": false,
     "input": [
      "sales = pd.read_excel('sales_data.xlsx', 0, index_col=None, na_values=['NA'])\n",
      "sales[:10]"
     ],
     "language": "python",
     "metadata": {},
     "outputs": []
    },
    {
     "cell_type": "markdown",
     "metadata": {},
     "source": [
      "For the file 'sales_data.xlsx', this will read the spreadsheet's first workbook \u2013 that's what the 0 is for \u2013 into a DataFrame.\n",
      "\n",
      "If you want to read the workbook other than the first one, you can either use a number \u2013 0 for the first one, 1 for the second, etc. \u2013 or you can use the name of the worksheet:"
     ]
    },
    {
     "cell_type": "code",
     "collapsed": false,
     "input": [
      "sales = pd.read_excel('sales_data.xlsx', 'Data from Accounting', index_col=None, na_values=['NA'])"
     ],
     "language": "python",
     "metadata": {},
     "outputs": []
    },
    {
     "cell_type": "markdown",
     "metadata": {},
     "source": [
      "See below for [additional options](#Options-You-Can-Use-When-Reading-Files); for more info, see the [Pandas documentation](http://pandas.pydata.org/pandas-docs/dev/io.html#io-excel)."
     ]
    },
    {
     "cell_type": "heading",
     "level": 2,
     "metadata": {},
     "source": [
      "Reading CSV Files"
     ]
    },
    {
     "cell_type": "markdown",
     "metadata": {},
     "source": [
      "You can read in a CSV file with just one line:"
     ]
    },
    {
     "cell_type": "code",
     "collapsed": false,
     "input": [
      "pastries = pd.read_csv('2012_pastries.csv')\n",
      "pastries[:10]"
     ],
     "language": "python",
     "metadata": {},
     "outputs": []
    },
    {
     "cell_type": "markdown",
     "metadata": {},
     "source": [
      "If the data isn't separated by commas, use the sep option:"
     ]
    },
    {
     "cell_type": "code",
     "collapsed": false,
     "input": [
      "pastries = pd.read_csv('2012_pastries.csv', sep=';')"
     ],
     "language": "python",
     "metadata": {},
     "outputs": []
    },
    {
     "cell_type": "heading",
     "level": 2,
     "metadata": {},
     "source": [
      "Options You Can Use When Reading Files"
     ]
    },
    {
     "cell_type": "markdown",
     "metadata": {},
     "source": [
      "Pandas has a huge range of options you can use to save you a lot of work when you're reading in a file. For example, you can tell pandas that some of the fields are dates using parse_dates:"
     ]
    },
    {
     "cell_type": "code",
     "collapsed": false,
     "input": [
      "pastries = pd.read_csv('2012_pastries.csv', parse_dates=['Purchase Date'])"
     ],
     "language": "python",
     "metadata": {},
     "outputs": []
    },
    {
     "cell_type": "markdown",
     "metadata": {},
     "source": [
      "(give another option \u2013 e.g., only taking the columns you need)"
     ]
    },
    {
     "cell_type": "markdown",
     "metadata": {},
     "source": [
      " You can also change the column names, tell Pandas what values to treat as missing values (a.k.a. NaN), do fancier date manipulation if you've got an unusual date format, read only the first n number of rows, etc.  \n",
      "\n",
      "For more info, see the [Pandas documentation for reading CSV and text files](http://pandas.pydata.org/pandas-docs/dev/io.html#csv-text-files); these options will also work for Excel."
     ]
    },
    {
     "cell_type": "heading",
     "level": 2,
     "metadata": {},
     "source": [
      "Creating a DataFrame Without Reading A File"
     ]
    },
    {
     "cell_type": "markdown",
     "metadata": {},
     "source": [
      "If you have a small amount of data and it isn't in a spreadsheet or text file, you can create a Data Frame on-the-fly. For example:"
     ]
    },
    {
     "cell_type": "code",
     "collapsed": false,
     "input": [
      "campaigns = pd.DataFrame( {'Google Tracking Code': ['ms23', 'ms19', 'res039', 'ab6'],\n",
      "'Created by': ['Sue', 'Sue', 'Amy', 'Amy'],\n",
      "'Visits': [105661, 98834, 61235, 12617],\n",
      " 'Revenue': [10550, 8600, 15310, 9700]\n",
      "})\n",
      "campaigns"
     ],
     "language": "python",
     "metadata": {},
     "outputs": []
    },
    {
     "cell_type": "heading",
     "level": 2,
     "metadata": {},
     "source": [
      "Listing the Files in a Directory"
     ]
    },
    {
     "cell_type": "markdown",
     "metadata": {},
     "source": [
      "To read the files in a directory, use glob. For example, to read the files in your current directory:"
     ]
    },
    {
     "cell_type": "code",
     "collapsed": false,
     "input": [
      "import glob\n",
      "files = glob.glob('*')"
     ],
     "language": "python",
     "metadata": {},
     "outputs": [
      {
       "output_type": "stream",
       "stream": "stdout",
       "text": [
        "['data', 'Pandas_4_Excel_Users.ipynb', 'Pandas_Bokeh.ipynb', 'Pandas_Cleaning.ipynb', 'Pandas_D3.ipynb', 'Pandas_Files.ipynb', 'Pandas_ggplot.ipynb', 'Pandas_Graphics.ipynb', 'Pandas_Installing.ipynb', 'Pandas_Matplotlib.ipynb', 'Pandas_Slicing_Data.ipynb', 'Pandas_Strings.ipynb', 'Pandas_Troubleshooting.ipynb', 'Twitter-Bootstrap.ipynb', 'Widgets.ipynb']\n"
       ]
      }
     ],
     "prompt_number": 5
    },
    {
     "cell_type": "markdown",
     "metadata": {},
     "source": [
      "To read the .txt files in the data subdirectory:"
     ]
    },
    {
     "cell_type": "code",
     "collapsed": false,
     "input": [
      "import glob\n",
      "files = glob.glob('data/*.txt')\n",
      "print files"
     ],
     "language": "python",
     "metadata": {},
     "outputs": [
      {
       "output_type": "stream",
       "stream": "stdout",
       "text": [
        "['..\\\\README.md']\n"
       ]
      }
     ],
     "prompt_number": 8
    },
    {
     "cell_type": "markdown",
     "metadata": {},
     "source": [
      "Sometimes you'll want to read more than one type of file -- e.g., all the .csv, .txt,  and Excel files.  Here's a function to do it:"
     ]
    },
    {
     "cell_type": "code",
     "collapsed": false,
     "input": [
      "import glob\n",
      "def get_directory_files():\n",
      "    \"\"\"Get a list of all files in the current directory that are txt, csv, or xls/xlsx\"\"\"\n",
      "    file_types=('*.txt','*.csv','*.xls','*.xlsx')\n",
      "    files_grabbed=[]\n",
      "    for file_type in file_types:\n",
      "        files_grabbed.extend(glob.glob(file_type)) #Extend is like append, only it takes a list and pulls out the individual items\n",
      "    return files_grabbed"
     ],
     "language": "python",
     "metadata": {},
     "outputs": [],
     "prompt_number": 10
    },
    {
     "cell_type": "heading",
     "level": 2,
     "metadata": {},
     "source": [
      "Writing CSV Files"
     ]
    },
    {
     "cell_type": "markdown",
     "metadata": {},
     "source": [
      "To create a CSV file, use to_csv. For example, to save some product data you've cleaned up:"
     ]
    },
    {
     "cell_type": "code",
     "collapsed": false,
     "input": [
      "purchases.to_csv('Product Data Cleaned.csv', encoding='utf-8')"
     ],
     "language": "python",
     "metadata": {},
     "outputs": [],
     "prompt_number": 2
    },
    {
     "cell_type": "markdown",
     "metadata": {},
     "source": [
      "What \"encoding='utf-8'\" does is that if any fields in your DataFrame contain any characters that are Unicode, it tells pandas how to convert them; without it, pandas will spit out a bizarre looking error message."
     ]
    },
    {
     "cell_type": "heading",
     "level": 2,
     "metadata": {},
     "source": [
      "Writing Excel Files"
     ]
    },
    {
     "cell_type": "heading",
     "level": 2,
     "metadata": {},
     "source": [
      "Troubleshooting Reading Files"
     ]
    },
    {
     "cell_type": "markdown",
     "metadata": {},
     "source": [
      "Is Pandas complaining it can't find the file you're trying to read? Based on painful experience, here are a a few issues you should check:\n",
      "\n",
      "1) Is Pandas looking in the right directory? Running this code will show you what directory it thinks you're in and the names of the files in that directory:"
     ]
    },
    {
     "cell_type": "code",
     "collapsed": false,
     "input": [
      "import os\t\n",
      "os.listdir('.')  \t#  one dot =  your current directory"
     ],
     "language": "python",
     "metadata": {},
     "outputs": []
    },
    {
     "cell_type": "markdown",
     "metadata": {},
     "source": [
      "2) Is the file extension the same?  For example, if you're importing an Excel file you might've typed \".xls\" but the file name actually ends with \".xlsx\".\n",
      "\n",
      "3) In the code that is reading in the file, did you accidentally put any spaces before or after the file's name? For example, if you're trying to read in data_dump.txt, both of these lines of codes will throw an error:"
     ]
    },
    {
     "cell_type": "code",
     "collapsed": false,
     "input": [
      "data = pd.read_excel(' data_dump.txt', 0, index_col=None, na_values=['NA'])\n",
      "data = pd.read_excel('data_dump.txt ', 0, index_col=None, na_values=['NA'])"
     ],
     "language": "python",
     "metadata": {},
     "outputs": []
    },
    {
     "cell_type": "markdown",
     "metadata": {},
     "source": [
      "4) Are there any typos in the file name? Look for typos both in the name you typed in *and* the name of the actual file.\n",
      "\n",
      "Finally, if the problem isn't obvious to you, have someone else take a look at the code; it's amazing how often just even so in your code to someone else can help you spot a problem."
     ]
    }
   ],
   "metadata": {}
  }
 ]
}