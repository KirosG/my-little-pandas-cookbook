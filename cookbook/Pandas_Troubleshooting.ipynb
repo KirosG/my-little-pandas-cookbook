{
 "metadata": {
  "name": "",
  "signature": "sha256:deaa785bf36f07c4d2047406ea3e952238bbf9d771a1f88ef6c1f71c3d6063a3"
 },
 "nbformat": 3,
 "nbformat_minor": 0,
 "worksheets": [
  {
   "cells": [
    {
     "cell_type": "heading",
     "level": 1,
     "metadata": {},
     "source": [
      "Troubleshooting Pandas"
     ]
    },
    {
     "cell_type": "markdown",
     "metadata": {},
     "source": [
      "Most cookbook sections have one or more parts on troubleshooting. This page is for overall advice on how to troubleshoot problems."
     ]
    },
    {
     "cell_type": "heading",
     "level": 2,
     "metadata": {},
     "source": [
      "Nothing's Happening"
     ]
    },
    {
     "cell_type": "markdown",
     "metadata": {},
     "source": [
      "If you try running a cell and nothing happens, the first thing to check is how much data you're handling. If you are running a lot of programs and/or you have an older box and you try to do something to 800,000 rows of data, it may seem like nothing's happening even though your IPython Notebook is chugging away. There's a simple way to test if this is the problem: reduce the amount of data you are dealing with.\n",
      "\n",
      "For example, if you have a DataFrame called meh_data you're trying to manipulate where nothing seems to be happening, do this:"
     ]
    },
    {
     "cell_type": "code",
     "collapsed": false,
     "input": [
      "little_meh = meh_data[:20]"
     ],
     "language": "python",
     "metadata": {},
     "outputs": []
    },
    {
     "cell_type": "markdown",
     "metadata": {},
     "source": [
      "Then try using little_meh to do whatever operation was causing the problem and see if you get a result."
     ]
    },
    {
     "cell_type": "code",
     "collapsed": false,
     "input": [],
     "language": "python",
     "metadata": {},
     "outputs": []
    }
   ],
   "metadata": {}
  }
 ]
}